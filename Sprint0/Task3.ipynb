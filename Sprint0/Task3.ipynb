{
 "cells": [
  {
   "cell_type": "markdown",
   "metadata": {},
   "source": [
    "<h1 style=\"color:DodgerBlue\">Индивидальный проект</h1>"
   ]
  },
  {
   "cell_type": "markdown",
   "metadata": {},
   "source": [
    "<h2 style=\"color:DodgerBlue\">Название проекта:</h2>\n",
    "\n",
    "----\n",
    "\n",
    "### Вариант задания 11\n"
   ]
  },
  {
   "cell_type": "markdown",
   "metadata": {},
   "source": [
    "<h2 style=\"color:DodgerBlue\">Описание проекта:</h2>\n",
    "\n",
    "----\n",
    "\n",
    "Создать базовый класс Customer в C#, который будет представлять информацию о\n",
    "клиентах или покупателях. На основе этого класса разработать 2-3 производных\n",
    "класса, демонстрирующих принципы наследования и полиморфизма. В каждом из\n",
    "классов должны быть реализованы новые атрибуты и методы, а также\n",
    "переопределены некоторые методы базового класса для демонстрации\n",
    "полиморфизма.\n"
   ]
  },
  {
   "cell_type": "markdown",
   "metadata": {},
   "source": [
    "<h2 style=\"color:DodgerBlue\">Реализация:</h2>\n",
    "\n",
    "----"
   ]
  },
  {
   "cell_type": "code",
   "execution_count": 2,
   "metadata": {
    "dotnet_interactive": {
     "language": "csharp"
    },
    "polyglot_notebook": {
     "kernelName": "csharp"
    }
   },
   "outputs": [
    {
     "name": "stdout",
     "output_type": "stream",
     "text": [
      "ID клиента: 1; имя: Valeria; электронная почта: vunder_valeria@mail.ru\n",
      "баланс лояльности: 81\n",
      "\n",
      "ID клиента: 2; имя: Victoria; электронная почта: vika.pyankova04@mail.ru\n",
      "9/24/2024 12:00:00 AM\n",
      "\n",
      "ID клиента: 3; имя: Gleb; электронная почта: AdidasOfficial@gmail.com\n",
      "Adidas\n"
     ]
    }
   ],
   "source": [
    "public class Customer \n",
    "{\n",
    "    public int CustomerId; \n",
    "    public string Name;\n",
    "    public string Email;\n",
    "\n",
    "    public Customer (int customerId, string name, string email)\n",
    "    {\n",
    "        CustomerId = customerId;\n",
    "        Name = name;\n",
    "        Email = email;\n",
    "    }\n",
    "\n",
    "    public virtual void GetFullName()\n",
    "    {\n",
    "        Console.WriteLine(Name);\n",
    "    }\n",
    "\n",
    "    public virtual void UpdateEmail(string newEmail)\n",
    "    {\n",
    "        Email = newEmail;\n",
    "    }\n",
    "\n",
    "    public virtual void ViewProfile()\n",
    "    {\n",
    "        Console.WriteLine($\"ID клиента: {CustomerId}; имя: {Name}; электронная почта: {Email}\");\n",
    "    }\n",
    "}\n",
    "\n",
    "\n",
    "public class VipCustomer : Customer\n",
    "{\n",
    "    public int LoyaltyPoint;\n",
    "\n",
    "    public VipCustomer (int customerId, string name, string email, int loyaltyPoint) \n",
    "    : base(customerId, name, email)\n",
    "    {\n",
    "        LoyaltyPoint = loyaltyPoint;\n",
    "    }\n",
    "\n",
    "    public override void ViewProfile()\n",
    "    {\n",
    "        base.ViewProfile();\n",
    "        Console.WriteLine($\"баланс лояльности: {LoyaltyPoint}\");\n",
    "    }\n",
    "}\n",
    "\n",
    "public class RegularCustomer : Customer \n",
    "{\n",
    "    public string RegistrationDate;\n",
    "\n",
    "    public RegularCustomer (int customerId, string name, string email, string registrationDate) \n",
    "    : base(customerId, name, email)\n",
    "    {\n",
    "        RegistrationDate = registrationDate;\n",
    "    }\n",
    "\n",
    "    public override void UpdateEmail(string newEmail)\n",
    "    {\n",
    "        Email = newEmail;\n",
    "        UpdateRegistrationDate();\n",
    "    }\n",
    "\n",
    "    private void UpdateRegistrationDate()\n",
    "    {\n",
    "        RegistrationDate = DateTime.Today.ToString();\n",
    "    }\n",
    "}\n",
    "\n",
    "\n",
    "public class GroupCustomer : Customer \n",
    "{\n",
    "    public string GroupName;\n",
    "    \n",
    "    public GroupCustomer (int customerId, string name, string email, string groupName) \n",
    "    : base(customerId, name, email)\n",
    "    {\n",
    "        GroupName = groupName;\n",
    "    }\n",
    "\n",
    "    public override void GetFullName()\n",
    "    {\n",
    "        Console.WriteLine(GroupName);\n",
    "    }\n",
    "}\n",
    "\n",
    "VipCustomer myVipCustomer = new VipCustomer(1, \"Valeria\", \"vunder_valeria@mail.ru\", 81);\n",
    "RegularCustomer myRegCustomer = new RegularCustomer(2, \"Victoria\", \"vika.pyankova04@mail.ru\", \"04.09.2015 18:50:00\");\n",
    "GroupCustomer myGrCustomer = new GroupCustomer(3, \"Gleb\", \"AdidasOfficial@gmail.com\", \"Adidas\");\n",
    "\n",
    "\n",
    "myVipCustomer.ViewProfile();  \n",
    "Console.WriteLine();\n",
    "\n",
    "myRegCustomer.ViewProfile(); \n",
    "myRegCustomer.UpdateEmail(\"vika.pyankova04@mail.ru\");\n",
    "Console.WriteLine(myRegCustomer.RegistrationDate); \n",
    "Console.WriteLine();\n",
    "\n",
    "myGrCustomer.ViewProfile(); \n",
    "myGrCustomer.GetFullName(); "
   ]
  }
 ],
 "metadata": {
  "kernelspec": {
   "display_name": ".NET (C#)",
   "language": "C#",
   "name": ".net-csharp"
  },
  "polyglot_notebook": {
   "kernelInfo": {
    "defaultKernelName": "csharp",
    "items": [
     {
      "aliases": [],
      "languageName": "csharp",
      "name": "csharp"
     }
    ]
   }
  }
 },
 "nbformat": 4,
 "nbformat_minor": 2
}
